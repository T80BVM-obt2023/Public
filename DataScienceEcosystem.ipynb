{
 "cells": [
  {
   "cell_type": "markdown",
   "id": "e3cc3b70-72b4-4c0c-a60f-60b0f5d9c863",
   "metadata": {},
   "source": [
    "#DataScienceEcosystem"
   ]
  },
  {
   "cell_type": "markdown",
   "id": "096bf16d-e97f-459f-945d-7c4b2975bebd",
   "metadata": {},
   "source": [
    "In this notebook, Data Science Tools and Ecosystem are summerized."
   ]
  },
  {
   "cell_type": "markdown",
   "id": "f79b442b-90f2-4036-a973-90d5eb14e1f7",
   "metadata": {},
   "source": [
    "Some of the popular languages that Data Scientists use are:"
   ]
  },
  {
   "cell_type": "code",
   "execution_count": 2,
   "id": "30997a43-a19e-4a26-bcd1-b587df73a358",
   "metadata": {
    "tags": []
   },
   "outputs": [
    {
     "data": {
      "text/plain": [
       "['Python', 'Java', 'C']"
      ]
     },
     "execution_count": 2,
     "metadata": {},
     "output_type": "execute_result"
    }
   ],
   "source": [
    "Popular_languages=['Python','Java','C']\n",
    "Popular_languages"
   ]
  },
  {
   "cell_type": "markdown",
   "id": "d12423a6-31d8-48fc-be5f-61ebf69141b4",
   "metadata": {
    "tags": []
   },
   "source": [
    "Some of the commonly used libraries used by Data Scientists include:"
   ]
  },
  {
   "cell_type": "code",
   "execution_count": 6,
   "id": "8724b00d-f56a-4630-8598-dd408b98f000",
   "metadata": {
    "tags": []
   },
   "outputs": [
    {
     "data": {
      "text/plain": [
       "['matplotlib', 'Numpy', 'PyTorch']"
      ]
     },
     "execution_count": 6,
     "metadata": {},
     "output_type": "execute_result"
    }
   ],
   "source": [
    "libraries=['matplotlib','Numpy','PyTorch']\n",
    "libraries"
   ]
  },
  {
   "cell_type": "markdown",
   "id": "9e314115-dbb6-492c-9f62-932342dcf46b",
   "metadata": {},
   "source": [
    "DataScience TOOls"
   ]
  },
  {
   "cell_type": "code",
   "execution_count": 9,
   "id": "a891b5ae-ec40-48f8-b429-db738f1014c6",
   "metadata": {
    "tags": []
   },
   "outputs": [
    {
     "data": {
      "text/html": [
       "<div>\n",
       "<style scoped>\n",
       "    .dataframe tbody tr th:only-of-type {\n",
       "        vertical-align: middle;\n",
       "    }\n",
       "\n",
       "    .dataframe tbody tr th {\n",
       "        vertical-align: top;\n",
       "    }\n",
       "\n",
       "    .dataframe thead th {\n",
       "        text-align: right;\n",
       "    }\n",
       "</style>\n",
       "<table border=\"1\" class=\"dataframe\">\n",
       "  <thead>\n",
       "    <tr style=\"text-align: right;\">\n",
       "      <th></th>\n",
       "      <th>DataScienceTools</th>\n",
       "    </tr>\n",
       "  </thead>\n",
       "  <tbody>\n",
       "    <tr>\n",
       "      <th>0</th>\n",
       "      <td>VScode</td>\n",
       "    </tr>\n",
       "    <tr>\n",
       "      <th>1</th>\n",
       "      <td>RSstudio</td>\n",
       "    </tr>\n",
       "    <tr>\n",
       "      <th>2</th>\n",
       "      <td>Jupyter Notebook</td>\n",
       "    </tr>\n",
       "  </tbody>\n",
       "</table>\n",
       "</div>"
      ],
      "text/plain": [
       "   DataScienceTools\n",
       "0            VScode\n",
       "1          RSstudio\n",
       "2  Jupyter Notebook"
      ]
     },
     "execution_count": 9,
     "metadata": {},
     "output_type": "execute_result"
    }
   ],
   "source": [
    "import pandas as pd\n",
    "tool={'DataScienceTools':['VScode','RSstudio','Jupyter Notebook']}\n",
    "pd.DataFrame(tool)"
   ]
  },
  {
   "cell_type": "markdown",
   "id": "e9126165-60ab-46cb-9e2d-c648639e3c30",
   "metadata": {},
   "source": [
    "###Below are a few examples of evaluating arithmetic expressions in Python"
   ]
  },
  {
   "cell_type": "code",
   "execution_count": 10,
   "id": "55d743a7-e182-467e-b87e-42aa36f8f032",
   "metadata": {
    "tags": []
   },
   "outputs": [
    {
     "data": {
      "text/plain": [
       "17"
      ]
     },
     "execution_count": 10,
     "metadata": {},
     "output_type": "execute_result"
    }
   ],
   "source": [
    "#This a simple arithmetic expression to mutiply then add integers\n",
    "(3*4)+5"
   ]
  },
  {
   "cell_type": "code",
   "execution_count": 14,
   "id": "244504ae-133e-4bce-bc78-4e184b2d3f71",
   "metadata": {
    "tags": []
   },
   "outputs": [
    {
     "name": "stdout",
     "output_type": "stream",
     "text": [
      "3.3333333333333335hrs\n"
     ]
    }
   ],
   "source": [
    "#This will convert 200 minutes to hours by diving by 60\n",
    "Min=200\n",
    "Hr=200/60\n",
    "print(f\"{Hr}hrs\")"
   ]
  },
  {
   "cell_type": "markdown",
   "id": "0dcee770-f724-436b-9a08-7fcca52b9ae7",
   "metadata": {},
   "source": [
    "**Objectives**"
   ]
  },
  {
   "cell_type": "markdown",
   "id": "2c08f025-8103-470b-bd2f-5922b1ad585f",
   "metadata": {},
   "source": [
    "-Understand the concept of the data science"
   ]
  },
  {
   "cell_type": "markdown",
   "id": "b2d3ac32-3f11-4d6d-8eb8-5d296aa1d415",
   "metadata": {},
   "source": [
    "-Familiarise with different types of the programming language and their main task"
   ]
  },
  {
   "cell_type": "markdown",
   "id": "bf55378d-1238-4c91-ac6a-47a32dc076bc",
   "metadata": {
    "tags": []
   },
   "source": [
    "-Knowing the popular integrated development environment(IDE)"
   ]
  },
  {
   "cell_type": "markdown",
   "id": "6b7516e9-6e13-48d0-94ea-21fd18408748",
   "metadata": {},
   "source": [
    "## Author"
   ]
  },
  {
   "cell_type": "markdown",
   "id": "f7eb8e48-ffba-4d65-bc2c-a659b87034a1",
   "metadata": {},
   "source": [
    "Xiaojian Peng"
   ]
  },
  {
   "cell_type": "code",
   "execution_count": null,
   "id": "ee0d3758-1d0f-4473-90ac-d0ef2d8658e0",
   "metadata": {},
   "outputs": [],
   "source": []
  }
 ],
 "metadata": {
  "kernelspec": {
   "display_name": "Python",
   "language": "python",
   "name": "conda-env-python-py"
  },
  "language_info": {
   "codemirror_mode": {
    "name": "ipython",
    "version": 3
   },
   "file_extension": ".py",
   "mimetype": "text/x-python",
   "name": "python",
   "nbconvert_exporter": "python",
   "pygments_lexer": "ipython3",
   "version": "3.7.12"
  }
 },
 "nbformat": 4,
 "nbformat_minor": 5
}
